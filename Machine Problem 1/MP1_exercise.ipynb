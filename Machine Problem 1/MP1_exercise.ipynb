{
 "cells": [
  {
   "cell_type": "code",
   "execution_count": 19,
   "id": "e39758aa-a589-464c-9935-6e3f2dc68605",
   "metadata": {},
   "outputs": [],
   "source": [
    "using Random\n",
    "using Plots\n",
    "using LinearAlgebra\n",
    "using Distributions\n",
    "using CSV\n",
    "using DataFrames"
   ]
  },
  {
   "cell_type": "markdown",
   "id": "ab33a70e-9f81-4ba0-b6f7-006d1e7e8021",
   "metadata": {},
   "source": [
    "### Functions"
   ]
  },
  {
   "cell_type": "code",
   "execution_count": 40,
   "id": "903b5486-d944-4b1f-b7e4-439b74f8fdf9",
   "metadata": {},
   "outputs": [
    {
     "data": {
      "text/plain": [
       "perceptron_learning_rule (generic function with 3 methods)"
      ]
     },
     "execution_count": 40,
     "metadata": {},
     "output_type": "execute_result"
    }
   ],
   "source": [
    "struct Perceptron\n",
    "    weights::Vector{Real}\n",
    "    cost::Real\n",
    "end\n",
    "    \n",
    "function signum(z)\n",
    "    \n",
    "    if z >= 0\n",
    "        return 1\n",
    "    end\n",
    "    \n",
    "    return -1\n",
    "end\n",
    "\n",
    "function predict(weights, x)\n",
    "    return signum(dot(x, weights[2:end]) + weights[1])\n",
    "end\n",
    "\n",
    "function predict(predictor::Perceptron, x)\n",
    "    return signum(dot(x, predictor.weights[2:end]) + predictor.weights[1])\n",
    "end\n",
    "\n",
    "function misclassification_rate(y_true, y_pred)\n",
    "    misclassifications = []\n",
    "    for i=1:length(y_true)\n",
    "        if y_true[i] == y_pred[i]\n",
    "            push!(misclassifications, 0)\n",
    "        else\n",
    "            push!(misclassifications, 1)\n",
    "        end\n",
    "    end\n",
    "    return sum(misclassifications)/length(y_true)\n",
    "end\n",
    "\n",
    "function dec_boundary(Perceptron, x)\n",
    "    #### You need to implement an algorithm to find the decision boundary\n",
    "    scatter(x[:,1], x[:, 2])\n",
    "    return nothing\n",
    "end\n",
    "\n",
    "function sensitivity_analysis(arguments)\n",
    "    #### You need to implement an algorithm that can generate decision boundaries for several training replications of the perceptron model\n",
    "    return nothing\n",
    "end\n",
    "\n",
    "function perceptron_learning_rule(X, y, epochs=10, learning_rate=0.01)\n",
    "\n",
    "    n, p = size(X)\n",
    "    d = Uniform(-1,1)\n",
    "    weight_vec = rand(d, p+1)               # Initialize the weights using random values\n",
    "    perceptron_updates = Perceptron[]\n",
    "    cost = 10000\n",
    "    push!(perceptron_updates, Perceptron(weight_vec, cost))\n",
    "    best_model = perceptron_updates[end]\n",
    "    t = 0\n",
    "\n",
    "    while cost > 0 && t < epochs\n",
    "\n",
    "        running_cost = 0\n",
    "\n",
    "        for i=1:n\n",
    "\n",
    "            # calculate the predictions using the model parameters\n",
    "            weight_vec_prev = weight_vec\n",
    "            y_hat = predict(weight_vec, X[i,:])\n",
    "\n",
    "            # update the parameters using the data\n",
    "            weight_vec[1] = weight_vec_prev[1] + learning_rate * (y[i] - y_hat)\n",
    "            for j = 1:p\n",
    "                weight_vec[j+1] = weight_vec_prev[j+1] + learning_rate * (y[i] - y_hat) * X[i,j]\n",
    "            end\n",
    "\n",
    "            running_cost = running_cost + abs(y[i] - y_hat)\n",
    "        end\n",
    "\n",
    "        cost = running_cost\n",
    "        println(\"Cost = $cost\")\n",
    "        push!(perceptron_updates, Perceptron(weight_vec, cost))\n",
    "\n",
    "        if best_model.cost > cost\n",
    "            best_model = perceptron_updates[end]\n",
    "        end\n",
    "\n",
    "        t = t + 1\n",
    "    end\n",
    "\n",
    "    return best_model\n",
    "end"
   ]
  },
  {
   "cell_type": "markdown",
   "id": "647e4a2b-8f15-4f1f-bcea-557be74db1b5",
   "metadata": {},
   "source": [
    "# Instructions"
   ]
  },
  {
   "cell_type": "markdown",
   "id": "55d5dc5f-60ea-46a7-8221-90eb19a5a4c1",
   "metadata": {},
   "source": [
    "You need to implement two functions:\n",
    " - dec_boundary: this function finds the decision boundary of the perceptron based on the weights derived by the model\n",
    " - sensitivity_analysis: this function uses the dec_boundary to replicate N trainings. Thus, it shows the AVERAGE MISCLASSIFICATION RATE of all the training replications and the decision boundaries for each training replication. You are left to decide how many replications you are going to perform to determine the model's stability."
   ]
  },
  {
   "cell_type": "markdown",
   "id": "5f7ed81c-37c8-4889-929b-8d4efcb1cff0",
   "metadata": {},
   "source": [
    "## Problem 1"
   ]
  },
  {
   "cell_type": "markdown",
   "id": "214407ae-d648-431e-8c6b-ffab0d9cdaa2",
   "metadata": {},
   "source": [
    "### Importing Dataset"
   ]
  },
  {
   "cell_type": "code",
   "execution_count": 32,
   "id": "cce65d17-9203-4662-a6c7-3761086c3680",
   "metadata": {},
   "outputs": [
    {
     "data": {
      "text/html": [
       "<div><div style = \"float: left;\"><span>2000×3 DataFrame</span></div><div style = \"float: right;\"><span style = \"font-style: italic;\">1975 rows omitted</span></div><div style = \"clear: both;\"></div></div><div class = \"data-frame\" style = \"overflow-x: scroll;\"><table class = \"data-frame\" style = \"margin-bottom: 6px;\"><thead><tr class = \"header\"><th class = \"rowNumber\" style = \"font-weight: bold; text-align: right;\">Row</th><th style = \"text-align: left;\">X1</th><th style = \"text-align: left;\">X2</th><th style = \"text-align: left;\">Class</th></tr><tr class = \"subheader headerLastRow\"><th class = \"rowNumber\" style = \"font-weight: bold; text-align: right;\"></th><th title = \"Float64\" style = \"text-align: left;\">Float64</th><th title = \"Float64\" style = \"text-align: left;\">Float64</th><th title = \"Float64\" style = \"text-align: left;\">Float64</th></tr></thead><tbody><tr><td class = \"rowNumber\" style = \"font-weight: bold; text-align: right;\">1</td><td style = \"text-align: right;\">9.26771</td><td style = \"text-align: right;\">6.09835</td><td style = \"text-align: right;\">-1.0</td></tr><tr><td class = \"rowNumber\" style = \"font-weight: bold; text-align: right;\">2</td><td style = \"text-align: right;\">5.02924</td><td style = \"text-align: right;\">7.37299</td><td style = \"text-align: right;\">1.0</td></tr><tr><td class = \"rowNumber\" style = \"font-weight: bold; text-align: right;\">3</td><td style = \"text-align: right;\">5.16104</td><td style = \"text-align: right;\">10.6784</td><td style = \"text-align: right;\">1.0</td></tr><tr><td class = \"rowNumber\" style = \"font-weight: bold; text-align: right;\">4</td><td style = \"text-align: right;\">4.02353</td><td style = \"text-align: right;\">10.0947</td><td style = \"text-align: right;\">1.0</td></tr><tr><td class = \"rowNumber\" style = \"font-weight: bold; text-align: right;\">5</td><td style = \"text-align: right;\">11.1768</td><td style = \"text-align: right;\">3.83397</td><td style = \"text-align: right;\">-1.0</td></tr><tr><td class = \"rowNumber\" style = \"font-weight: bold; text-align: right;\">6</td><td style = \"text-align: right;\">9.78434</td><td style = \"text-align: right;\">5.58006</td><td style = \"text-align: right;\">-1.0</td></tr><tr><td class = \"rowNumber\" style = \"font-weight: bold; text-align: right;\">7</td><td style = \"text-align: right;\">4.90465</td><td style = \"text-align: right;\">9.3467</td><td style = \"text-align: right;\">1.0</td></tr><tr><td class = \"rowNumber\" style = \"font-weight: bold; text-align: right;\">8</td><td style = \"text-align: right;\">8.98247</td><td style = \"text-align: right;\">6.6066</td><td style = \"text-align: right;\">-1.0</td></tr><tr><td class = \"rowNumber\" style = \"font-weight: bold; text-align: right;\">9</td><td style = \"text-align: right;\">4.63957</td><td style = \"text-align: right;\">9.89236</td><td style = \"text-align: right;\">1.0</td></tr><tr><td class = \"rowNumber\" style = \"font-weight: bold; text-align: right;\">10</td><td style = \"text-align: right;\">9.13663</td><td style = \"text-align: right;\">5.76902</td><td style = \"text-align: right;\">-1.0</td></tr><tr><td class = \"rowNumber\" style = \"font-weight: bold; text-align: right;\">11</td><td style = \"text-align: right;\">10.4204</td><td style = \"text-align: right;\">4.39389</td><td style = \"text-align: right;\">-1.0</td></tr><tr><td class = \"rowNumber\" style = \"font-weight: bold; text-align: right;\">12</td><td style = \"text-align: right;\">5.61821</td><td style = \"text-align: right;\">8.63432</td><td style = \"text-align: right;\">1.0</td></tr><tr><td class = \"rowNumber\" style = \"font-weight: bold; text-align: right;\">13</td><td style = \"text-align: right;\">10.802</td><td style = \"text-align: right;\">4.74596</td><td style = \"text-align: right;\">-1.0</td></tr><tr><td style = \"text-align: right;\">&vellip;</td><td style = \"text-align: right;\">&vellip;</td><td style = \"text-align: right;\">&vellip;</td><td style = \"text-align: right;\">&vellip;</td></tr><tr><td class = \"rowNumber\" style = \"font-weight: bold; text-align: right;\">1989</td><td style = \"text-align: right;\">4.75187</td><td style = \"text-align: right;\">9.51363</td><td style = \"text-align: right;\">1.0</td></tr><tr><td class = \"rowNumber\" style = \"font-weight: bold; text-align: right;\">1990</td><td style = \"text-align: right;\">4.77588</td><td style = \"text-align: right;\">10.727</td><td style = \"text-align: right;\">1.0</td></tr><tr><td class = \"rowNumber\" style = \"font-weight: bold; text-align: right;\">1991</td><td style = \"text-align: right;\">9.24953</td><td style = \"text-align: right;\">4.00823</td><td style = \"text-align: right;\">-1.0</td></tr><tr><td class = \"rowNumber\" style = \"font-weight: bold; text-align: right;\">1992</td><td style = \"text-align: right;\">4.36667</td><td style = \"text-align: right;\">8.24061</td><td style = \"text-align: right;\">1.0</td></tr><tr><td class = \"rowNumber\" style = \"font-weight: bold; text-align: right;\">1993</td><td style = \"text-align: right;\">2.26037</td><td style = \"text-align: right;\">10.4476</td><td style = \"text-align: right;\">1.0</td></tr><tr><td class = \"rowNumber\" style = \"font-weight: bold; text-align: right;\">1994</td><td style = \"text-align: right;\">10.2628</td><td style = \"text-align: right;\">6.15064</td><td style = \"text-align: right;\">-1.0</td></tr><tr><td class = \"rowNumber\" style = \"font-weight: bold; text-align: right;\">1995</td><td style = \"text-align: right;\">7.79376</td><td style = \"text-align: right;\">5.02825</td><td style = \"text-align: right;\">-1.0</td></tr><tr><td class = \"rowNumber\" style = \"font-weight: bold; text-align: right;\">1996</td><td style = \"text-align: right;\">3.52438</td><td style = \"text-align: right;\">10.0931</td><td style = \"text-align: right;\">1.0</td></tr><tr><td class = \"rowNumber\" style = \"font-weight: bold; text-align: right;\">1997</td><td style = \"text-align: right;\">5.68399</td><td style = \"text-align: right;\">11.9034</td><td style = \"text-align: right;\">1.0</td></tr><tr><td class = \"rowNumber\" style = \"font-weight: bold; text-align: right;\">1998</td><td style = \"text-align: right;\">9.3957</td><td style = \"text-align: right;\">5.44564</td><td style = \"text-align: right;\">-1.0</td></tr><tr><td class = \"rowNumber\" style = \"font-weight: bold; text-align: right;\">1999</td><td style = \"text-align: right;\">9.80935</td><td style = \"text-align: right;\">2.99861</td><td style = \"text-align: right;\">-1.0</td></tr><tr><td class = \"rowNumber\" style = \"font-weight: bold; text-align: right;\">2000</td><td style = \"text-align: right;\">10.2182</td><td style = \"text-align: right;\">6.08159</td><td style = \"text-align: right;\">-1.0</td></tr></tbody></table></div>"
      ],
      "text/latex": [
       "\\begin{tabular}{r|ccc}\n",
       "\t& X1 & X2 & Class\\\\\n",
       "\t\\hline\n",
       "\t& Float64 & Float64 & Float64\\\\\n",
       "\t\\hline\n",
       "\t1 & 9.26771 & 6.09835 & -1.0 \\\\\n",
       "\t2 & 5.02924 & 7.37299 & 1.0 \\\\\n",
       "\t3 & 5.16104 & 10.6784 & 1.0 \\\\\n",
       "\t4 & 4.02353 & 10.0947 & 1.0 \\\\\n",
       "\t5 & 11.1768 & 3.83397 & -1.0 \\\\\n",
       "\t6 & 9.78434 & 5.58006 & -1.0 \\\\\n",
       "\t7 & 4.90465 & 9.3467 & 1.0 \\\\\n",
       "\t8 & 8.98247 & 6.6066 & -1.0 \\\\\n",
       "\t9 & 4.63957 & 9.89236 & 1.0 \\\\\n",
       "\t10 & 9.13663 & 5.76902 & -1.0 \\\\\n",
       "\t11 & 10.4204 & 4.39389 & -1.0 \\\\\n",
       "\t12 & 5.61821 & 8.63432 & 1.0 \\\\\n",
       "\t13 & 10.802 & 4.74596 & -1.0 \\\\\n",
       "\t14 & 10.8225 & 4.21364 & -1.0 \\\\\n",
       "\t15 & 8.50279 & 4.307 & -1.0 \\\\\n",
       "\t16 & 9.88784 & 4.49018 & -1.0 \\\\\n",
       "\t17 & 8.54948 & 6.00619 & -1.0 \\\\\n",
       "\t18 & 9.06996 & 4.31673 & -1.0 \\\\\n",
       "\t19 & 1.91159 & 8.58579 & 1.0 \\\\\n",
       "\t20 & 10.7423 & 4.80186 & -1.0 \\\\\n",
       "\t21 & 4.62238 & 9.07196 & 1.0 \\\\\n",
       "\t22 & 11.4424 & 3.46049 & -1.0 \\\\\n",
       "\t23 & 10.9631 & 4.87717 & -1.0 \\\\\n",
       "\t24 & 2.65371 & 9.64508 & 1.0 \\\\\n",
       "\t25 & 9.50135 & 5.70815 & -1.0 \\\\\n",
       "\t26 & 5.20123 & 10.3121 & 1.0 \\\\\n",
       "\t27 & 3.76837 & 8.62595 & 1.0 \\\\\n",
       "\t28 & 10.4769 & 4.65059 & -1.0 \\\\\n",
       "\t29 & 9.41887 & 5.16539 & -1.0 \\\\\n",
       "\t30 & 6.83595 & 10.3658 & 1.0 \\\\\n",
       "\t$\\dots$ & $\\dots$ & $\\dots$ & $\\dots$ \\\\\n",
       "\\end{tabular}\n"
      ],
      "text/plain": [
       "\u001b[1m2000×3 DataFrame\u001b[0m\n",
       "\u001b[1m  Row \u001b[0m│\u001b[1m X1       \u001b[0m\u001b[1m X2       \u001b[0m\u001b[1m Class   \u001b[0m\n",
       "      │\u001b[90m Float64  \u001b[0m\u001b[90m Float64  \u001b[0m\u001b[90m Float64 \u001b[0m\n",
       "──────┼─────────────────────────────\n",
       "    1 │  9.26771   6.09835     -1.0\n",
       "    2 │  5.02924   7.37299      1.0\n",
       "    3 │  5.16104  10.6784       1.0\n",
       "    4 │  4.02353  10.0947       1.0\n",
       "    5 │ 11.1768    3.83397     -1.0\n",
       "    6 │  9.78434   5.58006     -1.0\n",
       "    7 │  4.90465   9.3467       1.0\n",
       "    8 │  8.98247   6.6066      -1.0\n",
       "    9 │  4.63957   9.89236      1.0\n",
       "   10 │  9.13663   5.76902     -1.0\n",
       "   11 │ 10.4204    4.39389     -1.0\n",
       "  ⋮   │    ⋮         ⋮         ⋮\n",
       " 1991 │  9.24953   4.00823     -1.0\n",
       " 1992 │  4.36667   8.24061      1.0\n",
       " 1993 │  2.26037  10.4476       1.0\n",
       " 1994 │ 10.2628    6.15064     -1.0\n",
       " 1995 │  7.79376   5.02825     -1.0\n",
       " 1996 │  3.52438  10.0931       1.0\n",
       " 1997 │  5.68399  11.9034       1.0\n",
       " 1998 │  9.3957    5.44564     -1.0\n",
       " 1999 │  9.80935   2.99861     -1.0\n",
       " 2000 │ 10.2182    6.08159     -1.0\n",
       "\u001b[36m                   1979 rows omitted\u001b[0m"
      ]
     },
     "execution_count": 32,
     "metadata": {},
     "output_type": "execute_result"
    }
   ],
   "source": [
    "dataset = CSV.read(\"problem_1.csv\", DataFrame)\n",
    "dataset"
   ]
  },
  {
   "cell_type": "markdown",
   "id": "ae26742e-cfaf-4bf2-83b1-c971f1f35d6e",
   "metadata": {},
   "source": [
    "### Model Training"
   ]
  },
  {
   "cell_type": "code",
   "execution_count": 36,
   "id": "1912d1d7-b37c-4466-a836-8a663cadddca",
   "metadata": {},
   "outputs": [
    {
     "name": "stdout",
     "output_type": "stream",
     "text": [
      "Cost = 48.0\n"
     ]
    },
    {
     "data": {
      "text/plain": [
       "Perceptron(Real[0.7688505095802518, -0.7521026154833904, 0.5328151044523893], 48.0)"
      ]
     },
     "execution_count": 36,
     "metadata": {},
     "output_type": "execute_result"
    }
   ],
   "source": [
    "X = dataset[:,1:2]\n",
    "y = dataset[:,end]\n",
    "perceptron_model =  perceptron_learning_rule(X, y, 1) # only run 1 epoch"
   ]
  },
  {
   "cell_type": "code",
   "execution_count": 41,
   "id": "0a52a5a1-e941-4a50-99e6-1428dbc9edb4",
   "metadata": {},
   "outputs": [],
   "source": [
    "dec_boundary(perceptron_model, X)"
   ]
  },
  {
   "cell_type": "markdown",
   "id": "26a383d1-7907-49d6-b498-9e1282573775",
   "metadata": {},
   "source": [
    "### Sensitivity Analysis"
   ]
  },
  {
   "cell_type": "code",
   "execution_count": 24,
   "id": "60d3d0cc-7d4d-41d0-bfad-11229e08758c",
   "metadata": {},
   "outputs": [
    {
     "ename": "LoadError",
     "evalue": "MethodError: no method matching sensitivity_analysis()\n\n\u001b[0mClosest candidates are:\n\u001b[0m  sensitivity_analysis(\u001b[91m::Any\u001b[39m)\n\u001b[0m\u001b[90m   @\u001b[39m \u001b[35mMain\u001b[39m \u001b[90m\u001b[4mIn[20]:40\u001b[24m\u001b[39m\n",
     "output_type": "error",
     "traceback": [
      "MethodError: no method matching sensitivity_analysis()\n\n\u001b[0mClosest candidates are:\n\u001b[0m  sensitivity_analysis(\u001b[91m::Any\u001b[39m)\n\u001b[0m\u001b[90m   @\u001b[39m \u001b[35mMain\u001b[39m \u001b[90m\u001b[4mIn[20]:40\u001b[24m\u001b[39m\n",
      "",
      "Stacktrace:",
      " [1] top-level scope",
      "   @ In[24]:1"
     ]
    }
   ],
   "source": [
    "sensitivity_analysis()"
   ]
  },
  {
   "cell_type": "markdown",
   "id": "39c52a5e-f601-4f41-a8c6-1a28e3741cde",
   "metadata": {
    "tags": []
   },
   "source": [
    "## Problem 2"
   ]
  },
  {
   "cell_type": "markdown",
   "id": "aae7e089-8d61-4ed4-b125-0b6bb301b219",
   "metadata": {},
   "source": [
    "### Importing Dataset"
   ]
  },
  {
   "cell_type": "code",
   "execution_count": 25,
   "id": "e9d64170-3257-4d3b-97cf-93817b7849cb",
   "metadata": {},
   "outputs": [
    {
     "data": {
      "text/html": [
       "<div><div style = \"float: left;\"><span>2000×3 DataFrame</span></div><div style = \"float: right;\"><span style = \"font-style: italic;\">1975 rows omitted</span></div><div style = \"clear: both;\"></div></div><div class = \"data-frame\" style = \"overflow-x: scroll;\"><table class = \"data-frame\" style = \"margin-bottom: 6px;\"><thead><tr class = \"header\"><th class = \"rowNumber\" style = \"font-weight: bold; text-align: right;\">Row</th><th style = \"text-align: left;\">X1</th><th style = \"text-align: left;\">X2</th><th style = \"text-align: left;\">Class</th></tr><tr class = \"subheader headerLastRow\"><th class = \"rowNumber\" style = \"font-weight: bold; text-align: right;\"></th><th title = \"Float64\" style = \"text-align: left;\">Float64</th><th title = \"Float64\" style = \"text-align: left;\">Float64</th><th title = \"Float64\" style = \"text-align: left;\">Float64</th></tr></thead><tbody><tr><td class = \"rowNumber\" style = \"font-weight: bold; text-align: right;\">1</td><td style = \"text-align: right;\">7.99094</td><td style = \"text-align: right;\">13.6628</td><td style = \"text-align: right;\">-1.0</td></tr><tr><td class = \"rowNumber\" style = \"font-weight: bold; text-align: right;\">2</td><td style = \"text-align: right;\">14.8708</td><td style = \"text-align: right;\">10.927</td><td style = \"text-align: right;\">1.0</td></tr><tr><td class = \"rowNumber\" style = \"font-weight: bold; text-align: right;\">3</td><td style = \"text-align: right;\">9.27359</td><td style = \"text-align: right;\">13.5918</td><td style = \"text-align: right;\">-1.0</td></tr><tr><td class = \"rowNumber\" style = \"font-weight: bold; text-align: right;\">4</td><td style = \"text-align: right;\">9.60728</td><td style = \"text-align: right;\">14.4627</td><td style = \"text-align: right;\">-1.0</td></tr><tr><td class = \"rowNumber\" style = \"font-weight: bold; text-align: right;\">5</td><td style = \"text-align: right;\">14.704</td><td style = \"text-align: right;\">8.69325</td><td style = \"text-align: right;\">1.0</td></tr><tr><td class = \"rowNumber\" style = \"font-weight: bold; text-align: right;\">6</td><td style = \"text-align: right;\">18.8638</td><td style = \"text-align: right;\">10.9705</td><td style = \"text-align: right;\">1.0</td></tr><tr><td class = \"rowNumber\" style = \"font-weight: bold; text-align: right;\">7</td><td style = \"text-align: right;\">10.4273</td><td style = \"text-align: right;\">15.3353</td><td style = \"text-align: right;\">-1.0</td></tr><tr><td class = \"rowNumber\" style = \"font-weight: bold; text-align: right;\">8</td><td style = \"text-align: right;\">13.1795</td><td style = \"text-align: right;\">13.4864</td><td style = \"text-align: right;\">1.0</td></tr><tr><td class = \"rowNumber\" style = \"font-weight: bold; text-align: right;\">9</td><td style = \"text-align: right;\">16.0591</td><td style = \"text-align: right;\">9.03799</td><td style = \"text-align: right;\">1.0</td></tr><tr><td class = \"rowNumber\" style = \"font-weight: bold; text-align: right;\">10</td><td style = \"text-align: right;\">8.3886</td><td style = \"text-align: right;\">13.6766</td><td style = \"text-align: right;\">-1.0</td></tr><tr><td class = \"rowNumber\" style = \"font-weight: bold; text-align: right;\">11</td><td style = \"text-align: right;\">14.3023</td><td style = \"text-align: right;\">9.361</td><td style = \"text-align: right;\">1.0</td></tr><tr><td class = \"rowNumber\" style = \"font-weight: bold; text-align: right;\">12</td><td style = \"text-align: right;\">12.2221</td><td style = \"text-align: right;\">8.16864</td><td style = \"text-align: right;\">1.0</td></tr><tr><td class = \"rowNumber\" style = \"font-weight: bold; text-align: right;\">13</td><td style = \"text-align: right;\">16.3427</td><td style = \"text-align: right;\">13.3442</td><td style = \"text-align: right;\">1.0</td></tr><tr><td style = \"text-align: right;\">&vellip;</td><td style = \"text-align: right;\">&vellip;</td><td style = \"text-align: right;\">&vellip;</td><td style = \"text-align: right;\">&vellip;</td></tr><tr><td class = \"rowNumber\" style = \"font-weight: bold; text-align: right;\">1989</td><td style = \"text-align: right;\">8.44114</td><td style = \"text-align: right;\">14.5193</td><td style = \"text-align: right;\">-1.0</td></tr><tr><td class = \"rowNumber\" style = \"font-weight: bold; text-align: right;\">1990</td><td style = \"text-align: right;\">17.5485</td><td style = \"text-align: right;\">11.9622</td><td style = \"text-align: right;\">1.0</td></tr><tr><td class = \"rowNumber\" style = \"font-weight: bold; text-align: right;\">1991</td><td style = \"text-align: right;\">16.0415</td><td style = \"text-align: right;\">10.8653</td><td style = \"text-align: right;\">1.0</td></tr><tr><td class = \"rowNumber\" style = \"font-weight: bold; text-align: right;\">1992</td><td style = \"text-align: right;\">17.2973</td><td style = \"text-align: right;\">7.35685</td><td style = \"text-align: right;\">1.0</td></tr><tr><td class = \"rowNumber\" style = \"font-weight: bold; text-align: right;\">1993</td><td style = \"text-align: right;\">9.57986</td><td style = \"text-align: right;\">15.0721</td><td style = \"text-align: right;\">-1.0</td></tr><tr><td class = \"rowNumber\" style = \"font-weight: bold; text-align: right;\">1994</td><td style = \"text-align: right;\">13.0113</td><td style = \"text-align: right;\">10.0031</td><td style = \"text-align: right;\">1.0</td></tr><tr><td class = \"rowNumber\" style = \"font-weight: bold; text-align: right;\">1995</td><td style = \"text-align: right;\">10.0092</td><td style = \"text-align: right;\">14.6155</td><td style = \"text-align: right;\">-1.0</td></tr><tr><td class = \"rowNumber\" style = \"font-weight: bold; text-align: right;\">1996</td><td style = \"text-align: right;\">18.9903</td><td style = \"text-align: right;\">12.3222</td><td style = \"text-align: right;\">1.0</td></tr><tr><td class = \"rowNumber\" style = \"font-weight: bold; text-align: right;\">1997</td><td style = \"text-align: right;\">11.1478</td><td style = \"text-align: right;\">15.0483</td><td style = \"text-align: right;\">-1.0</td></tr><tr><td class = \"rowNumber\" style = \"font-weight: bold; text-align: right;\">1998</td><td style = \"text-align: right;\">16.0809</td><td style = \"text-align: right;\">8.81849</td><td style = \"text-align: right;\">1.0</td></tr><tr><td class = \"rowNumber\" style = \"font-weight: bold; text-align: right;\">1999</td><td style = \"text-align: right;\">14.7989</td><td style = \"text-align: right;\">6.94861</td><td style = \"text-align: right;\">1.0</td></tr><tr><td class = \"rowNumber\" style = \"font-weight: bold; text-align: right;\">2000</td><td style = \"text-align: right;\">8.38588</td><td style = \"text-align: right;\">15.5027</td><td style = \"text-align: right;\">-1.0</td></tr></tbody></table></div>"
      ],
      "text/latex": [
       "\\begin{tabular}{r|ccc}\n",
       "\t& X1 & X2 & Class\\\\\n",
       "\t\\hline\n",
       "\t& Float64 & Float64 & Float64\\\\\n",
       "\t\\hline\n",
       "\t1 & 7.99094 & 13.6628 & -1.0 \\\\\n",
       "\t2 & 14.8708 & 10.927 & 1.0 \\\\\n",
       "\t3 & 9.27359 & 13.5918 & -1.0 \\\\\n",
       "\t4 & 9.60728 & 14.4627 & -1.0 \\\\\n",
       "\t5 & 14.704 & 8.69325 & 1.0 \\\\\n",
       "\t6 & 18.8638 & 10.9705 & 1.0 \\\\\n",
       "\t7 & 10.4273 & 15.3353 & -1.0 \\\\\n",
       "\t8 & 13.1795 & 13.4864 & 1.0 \\\\\n",
       "\t9 & 16.0591 & 9.03799 & 1.0 \\\\\n",
       "\t10 & 8.3886 & 13.6766 & -1.0 \\\\\n",
       "\t11 & 14.3023 & 9.361 & 1.0 \\\\\n",
       "\t12 & 12.2221 & 8.16864 & 1.0 \\\\\n",
       "\t13 & 16.3427 & 13.3442 & 1.0 \\\\\n",
       "\t14 & 14.104 & 10.3105 & 1.0 \\\\\n",
       "\t15 & 13.2672 & 16.4844 & -1.0 \\\\\n",
       "\t16 & 12.7989 & 16.3365 & -1.0 \\\\\n",
       "\t17 & 15.0052 & 7.4122 & 1.0 \\\\\n",
       "\t18 & 15.0041 & 8.26968 & 1.0 \\\\\n",
       "\t19 & 17.8446 & 11.0387 & 1.0 \\\\\n",
       "\t20 & 7.97758 & 14.3934 & -1.0 \\\\\n",
       "\t21 & 13.7844 & 7.1138 & 1.0 \\\\\n",
       "\t22 & 16.3802 & 10.4658 & 1.0 \\\\\n",
       "\t23 & 15.524 & 10.6846 & 1.0 \\\\\n",
       "\t24 & 12.756 & 9.78475 & 1.0 \\\\\n",
       "\t25 & 17.724 & 10.4915 & 1.0 \\\\\n",
       "\t26 & 9.68946 & 14.1792 & -1.0 \\\\\n",
       "\t27 & 8.16488 & 15.3506 & -1.0 \\\\\n",
       "\t28 & 15.8835 & 12.3173 & 1.0 \\\\\n",
       "\t29 & 16.1333 & 11.1025 & 1.0 \\\\\n",
       "\t30 & 8.00245 & 13.9852 & -1.0 \\\\\n",
       "\t$\\dots$ & $\\dots$ & $\\dots$ & $\\dots$ \\\\\n",
       "\\end{tabular}\n"
      ],
      "text/plain": [
       "\u001b[1m2000×3 DataFrame\u001b[0m\n",
       "\u001b[1m  Row \u001b[0m│\u001b[1m X1       \u001b[0m\u001b[1m X2       \u001b[0m\u001b[1m Class   \u001b[0m\n",
       "      │\u001b[90m Float64  \u001b[0m\u001b[90m Float64  \u001b[0m\u001b[90m Float64 \u001b[0m\n",
       "──────┼─────────────────────────────\n",
       "    1 │  7.99094  13.6628      -1.0\n",
       "    2 │ 14.8708   10.927        1.0\n",
       "    3 │  9.27359  13.5918      -1.0\n",
       "    4 │  9.60728  14.4627      -1.0\n",
       "    5 │ 14.704     8.69325      1.0\n",
       "    6 │ 18.8638   10.9705       1.0\n",
       "    7 │ 10.4273   15.3353      -1.0\n",
       "    8 │ 13.1795   13.4864       1.0\n",
       "    9 │ 16.0591    9.03799      1.0\n",
       "   10 │  8.3886   13.6766      -1.0\n",
       "   11 │ 14.3023    9.361        1.0\n",
       "  ⋮   │    ⋮         ⋮         ⋮\n",
       " 1991 │ 16.0415   10.8653       1.0\n",
       " 1992 │ 17.2973    7.35685      1.0\n",
       " 1993 │  9.57986  15.0721      -1.0\n",
       " 1994 │ 13.0113   10.0031       1.0\n",
       " 1995 │ 10.0092   14.6155      -1.0\n",
       " 1996 │ 18.9903   12.3222       1.0\n",
       " 1997 │ 11.1478   15.0483      -1.0\n",
       " 1998 │ 16.0809    8.81849      1.0\n",
       " 1999 │ 14.7989    6.94861      1.0\n",
       " 2000 │  8.38588  15.5027      -1.0\n",
       "\u001b[36m                   1979 rows omitted\u001b[0m"
      ]
     },
     "execution_count": 25,
     "metadata": {},
     "output_type": "execute_result"
    }
   ],
   "source": [
    "dataset = CSV.read(\"problem_2.csv\", DataFrame)"
   ]
  },
  {
   "cell_type": "markdown",
   "id": "2c1b5c9f-dda3-4989-abf6-a7661c30e688",
   "metadata": {},
   "source": [
    "## Model Training"
   ]
  },
  {
   "cell_type": "code",
   "execution_count": null,
   "id": "80e980d1-ce14-4de3-ba6e-0286577b8d19",
   "metadata": {},
   "outputs": [],
   "source": []
  },
  {
   "cell_type": "markdown",
   "id": "f46676ef-5f1e-47d1-ae16-c6d1581efb36",
   "metadata": {},
   "source": [
    "### Sensitivity Analysis"
   ]
  },
  {
   "cell_type": "code",
   "execution_count": null,
   "id": "a4f5308b-080b-4338-a1fc-d9542bdddca4",
   "metadata": {},
   "outputs": [],
   "source": []
  },
  {
   "cell_type": "markdown",
   "id": "b064e86c-e5f8-47a5-8b0a-1f28d4475de4",
   "metadata": {},
   "source": [
    "## Problem 3"
   ]
  },
  {
   "cell_type": "markdown",
   "id": "9ce45e16-50a3-4674-bcdd-b363861228be",
   "metadata": {},
   "source": [
    "### Importing Dataset"
   ]
  },
  {
   "cell_type": "code",
   "execution_count": 26,
   "id": "4305072a-45ae-4628-a3a6-a05dee513cc8",
   "metadata": {},
   "outputs": [
    {
     "data": {
      "text/html": [
       "<div><div style = \"float: left;\"><span>2000×3 DataFrame</span></div><div style = \"float: right;\"><span style = \"font-style: italic;\">1975 rows omitted</span></div><div style = \"clear: both;\"></div></div><div class = \"data-frame\" style = \"overflow-x: scroll;\"><table class = \"data-frame\" style = \"margin-bottom: 6px;\"><thead><tr class = \"header\"><th class = \"rowNumber\" style = \"font-weight: bold; text-align: right;\">Row</th><th style = \"text-align: left;\">X1</th><th style = \"text-align: left;\">X2</th><th style = \"text-align: left;\">Class</th></tr><tr class = \"subheader headerLastRow\"><th class = \"rowNumber\" style = \"font-weight: bold; text-align: right;\"></th><th title = \"Float64\" style = \"text-align: left;\">Float64</th><th title = \"Float64\" style = \"text-align: left;\">Float64</th><th title = \"Float64\" style = \"text-align: left;\">Float64</th></tr></thead><tbody><tr><td class = \"rowNumber\" style = \"font-weight: bold; text-align: right;\">1</td><td style = \"text-align: right;\">2.84882</td><td style = \"text-align: right;\">8.20517</td><td style = \"text-align: right;\">-1.0</td></tr><tr><td class = \"rowNumber\" style = \"font-weight: bold; text-align: right;\">2</td><td style = \"text-align: right;\">0.806525</td><td style = \"text-align: right;\">8.34535</td><td style = \"text-align: right;\">-1.0</td></tr><tr><td class = \"rowNumber\" style = \"font-weight: bold; text-align: right;\">3</td><td style = \"text-align: right;\">15.7209</td><td style = \"text-align: right;\">4.25458</td><td style = \"text-align: right;\">1.0</td></tr><tr><td class = \"rowNumber\" style = \"font-weight: bold; text-align: right;\">4</td><td style = \"text-align: right;\">17.5105</td><td style = \"text-align: right;\">3.7684</td><td style = \"text-align: right;\">1.0</td></tr><tr><td class = \"rowNumber\" style = \"font-weight: bold; text-align: right;\">5</td><td style = \"text-align: right;\">14.6863</td><td style = \"text-align: right;\">1.5843</td><td style = \"text-align: right;\">1.0</td></tr><tr><td class = \"rowNumber\" style = \"font-weight: bold; text-align: right;\">6</td><td style = \"text-align: right;\">16.3605</td><td style = \"text-align: right;\">2.75231</td><td style = \"text-align: right;\">1.0</td></tr><tr><td class = \"rowNumber\" style = \"font-weight: bold; text-align: right;\">7</td><td style = \"text-align: right;\">1.78845</td><td style = \"text-align: right;\">10.6771</td><td style = \"text-align: right;\">-1.0</td></tr><tr><td class = \"rowNumber\" style = \"font-weight: bold; text-align: right;\">8</td><td style = \"text-align: right;\">3.85062</td><td style = \"text-align: right;\">10.2262</td><td style = \"text-align: right;\">-1.0</td></tr><tr><td class = \"rowNumber\" style = \"font-weight: bold; text-align: right;\">9</td><td style = \"text-align: right;\">2.46848</td><td style = \"text-align: right;\">8.29177</td><td style = \"text-align: right;\">-1.0</td></tr><tr><td class = \"rowNumber\" style = \"font-weight: bold; text-align: right;\">10</td><td style = \"text-align: right;\">-1.34167</td><td style = \"text-align: right;\">5.83384</td><td style = \"text-align: right;\">-1.0</td></tr><tr><td class = \"rowNumber\" style = \"font-weight: bold; text-align: right;\">11</td><td style = \"text-align: right;\">15.3657</td><td style = \"text-align: right;\">2.0314</td><td style = \"text-align: right;\">1.0</td></tr><tr><td class = \"rowNumber\" style = \"font-weight: bold; text-align: right;\">12</td><td style = \"text-align: right;\">0.811504</td><td style = \"text-align: right;\">8.45888</td><td style = \"text-align: right;\">-1.0</td></tr><tr><td class = \"rowNumber\" style = \"font-weight: bold; text-align: right;\">13</td><td style = \"text-align: right;\">0.925838</td><td style = \"text-align: right;\">7.07217</td><td style = \"text-align: right;\">-1.0</td></tr><tr><td style = \"text-align: right;\">&vellip;</td><td style = \"text-align: right;\">&vellip;</td><td style = \"text-align: right;\">&vellip;</td><td style = \"text-align: right;\">&vellip;</td></tr><tr><td class = \"rowNumber\" style = \"font-weight: bold; text-align: right;\">1989</td><td style = \"text-align: right;\">13.923</td><td style = \"text-align: right;\">-0.446757</td><td style = \"text-align: right;\">1.0</td></tr><tr><td class = \"rowNumber\" style = \"font-weight: bold; text-align: right;\">1990</td><td style = \"text-align: right;\">0.196179</td><td style = \"text-align: right;\">3.48999</td><td style = \"text-align: right;\">-1.0</td></tr><tr><td class = \"rowNumber\" style = \"font-weight: bold; text-align: right;\">1991</td><td style = \"text-align: right;\">-0.743458</td><td style = \"text-align: right;\">7.23079</td><td style = \"text-align: right;\">-1.0</td></tr><tr><td class = \"rowNumber\" style = \"font-weight: bold; text-align: right;\">1992</td><td style = \"text-align: right;\">3.01128</td><td style = \"text-align: right;\">9.70817</td><td style = \"text-align: right;\">-1.0</td></tr><tr><td class = \"rowNumber\" style = \"font-weight: bold; text-align: right;\">1993</td><td style = \"text-align: right;\">14.4889</td><td style = \"text-align: right;\">3.33466</td><td style = \"text-align: right;\">1.0</td></tr><tr><td class = \"rowNumber\" style = \"font-weight: bold; text-align: right;\">1994</td><td style = \"text-align: right;\">2.1035</td><td style = \"text-align: right;\">7.18387</td><td style = \"text-align: right;\">-1.0</td></tr><tr><td class = \"rowNumber\" style = \"font-weight: bold; text-align: right;\">1995</td><td style = \"text-align: right;\">16.3205</td><td style = \"text-align: right;\">1.79306</td><td style = \"text-align: right;\">1.0</td></tr><tr><td class = \"rowNumber\" style = \"font-weight: bold; text-align: right;\">1996</td><td style = \"text-align: right;\">3.50695</td><td style = \"text-align: right;\">8.52361</td><td style = \"text-align: right;\">-1.0</td></tr><tr><td class = \"rowNumber\" style = \"font-weight: bold; text-align: right;\">1997</td><td style = \"text-align: right;\">13.5481</td><td style = \"text-align: right;\">2.58137</td><td style = \"text-align: right;\">1.0</td></tr><tr><td class = \"rowNumber\" style = \"font-weight: bold; text-align: right;\">1998</td><td style = \"text-align: right;\">16.4307</td><td style = \"text-align: right;\">2.95545</td><td style = \"text-align: right;\">1.0</td></tr><tr><td class = \"rowNumber\" style = \"font-weight: bold; text-align: right;\">1999</td><td style = \"text-align: right;\">16.7514</td><td style = \"text-align: right;\">1.46454</td><td style = \"text-align: right;\">1.0</td></tr><tr><td class = \"rowNumber\" style = \"font-weight: bold; text-align: right;\">2000</td><td style = \"text-align: right;\">3.13791</td><td style = \"text-align: right;\">9.22915</td><td style = \"text-align: right;\">-1.0</td></tr></tbody></table></div>"
      ],
      "text/latex": [
       "\\begin{tabular}{r|ccc}\n",
       "\t& X1 & X2 & Class\\\\\n",
       "\t\\hline\n",
       "\t& Float64 & Float64 & Float64\\\\\n",
       "\t\\hline\n",
       "\t1 & 2.84882 & 8.20517 & -1.0 \\\\\n",
       "\t2 & 0.806525 & 8.34535 & -1.0 \\\\\n",
       "\t3 & 15.7209 & 4.25458 & 1.0 \\\\\n",
       "\t4 & 17.5105 & 3.7684 & 1.0 \\\\\n",
       "\t5 & 14.6863 & 1.5843 & 1.0 \\\\\n",
       "\t6 & 16.3605 & 2.75231 & 1.0 \\\\\n",
       "\t7 & 1.78845 & 10.6771 & -1.0 \\\\\n",
       "\t8 & 3.85062 & 10.2262 & -1.0 \\\\\n",
       "\t9 & 2.46848 & 8.29177 & -1.0 \\\\\n",
       "\t10 & -1.34167 & 5.83384 & -1.0 \\\\\n",
       "\t11 & 15.3657 & 2.0314 & 1.0 \\\\\n",
       "\t12 & 0.811504 & 8.45888 & -1.0 \\\\\n",
       "\t13 & 0.925838 & 7.07217 & -1.0 \\\\\n",
       "\t14 & 13.6877 & 3.26478 & 1.0 \\\\\n",
       "\t15 & -0.510179 & 6.57574 & -1.0 \\\\\n",
       "\t16 & -1.12978 & 7.53807 & -1.0 \\\\\n",
       "\t17 & 14.3863 & 0.323012 & 1.0 \\\\\n",
       "\t18 & 0.807323 & 6.52231 & -1.0 \\\\\n",
       "\t19 & 2.5066 & 9.10776 & -1.0 \\\\\n",
       "\t20 & 1.55449 & 7.80309 & -1.0 \\\\\n",
       "\t21 & 0.990431 & 5.10046 & -1.0 \\\\\n",
       "\t22 & -1.33642 & 8.26225 & -1.0 \\\\\n",
       "\t23 & 13.1135 & 0.479357 & 1.0 \\\\\n",
       "\t24 & -1.95532 & 6.38471 & -1.0 \\\\\n",
       "\t25 & -1.65956 & 5.6131 & -1.0 \\\\\n",
       "\t26 & 1.19699 & 7.22568 & -1.0 \\\\\n",
       "\t27 & 16.1735 & 0.671673 & 1.0 \\\\\n",
       "\t28 & 0.171664 & 8.75899 & -1.0 \\\\\n",
       "\t29 & 15.5989 & 4.53719 & 1.0 \\\\\n",
       "\t30 & 15.0773 & -1.57064 & 1.0 \\\\\n",
       "\t$\\dots$ & $\\dots$ & $\\dots$ & $\\dots$ \\\\\n",
       "\\end{tabular}\n"
      ],
      "text/plain": [
       "\u001b[1m2000×3 DataFrame\u001b[0m\n",
       "\u001b[1m  Row \u001b[0m│\u001b[1m X1        \u001b[0m\u001b[1m X2        \u001b[0m\u001b[1m Class   \u001b[0m\n",
       "      │\u001b[90m Float64   \u001b[0m\u001b[90m Float64   \u001b[0m\u001b[90m Float64 \u001b[0m\n",
       "──────┼───────────────────────────────\n",
       "    1 │  2.84882    8.20517      -1.0\n",
       "    2 │  0.806525   8.34535      -1.0\n",
       "    3 │ 15.7209     4.25458       1.0\n",
       "    4 │ 17.5105     3.7684        1.0\n",
       "    5 │ 14.6863     1.5843        1.0\n",
       "    6 │ 16.3605     2.75231       1.0\n",
       "    7 │  1.78845   10.6771       -1.0\n",
       "    8 │  3.85062   10.2262       -1.0\n",
       "    9 │  2.46848    8.29177      -1.0\n",
       "   10 │ -1.34167    5.83384      -1.0\n",
       "   11 │ 15.3657     2.0314        1.0\n",
       "  ⋮   │     ⋮          ⋮         ⋮\n",
       " 1991 │ -0.743458   7.23079      -1.0\n",
       " 1992 │  3.01128    9.70817      -1.0\n",
       " 1993 │ 14.4889     3.33466       1.0\n",
       " 1994 │  2.1035     7.18387      -1.0\n",
       " 1995 │ 16.3205     1.79306       1.0\n",
       " 1996 │  3.50695    8.52361      -1.0\n",
       " 1997 │ 13.5481     2.58137       1.0\n",
       " 1998 │ 16.4307     2.95545       1.0\n",
       " 1999 │ 16.7514     1.46454       1.0\n",
       " 2000 │  3.13791    9.22915      -1.0\n",
       "\u001b[36m                     1979 rows omitted\u001b[0m"
      ]
     },
     "execution_count": 26,
     "metadata": {},
     "output_type": "execute_result"
    }
   ],
   "source": [
    "dataset = CSV.read(\"problem_3.csv\", DataFrame)"
   ]
  },
  {
   "cell_type": "markdown",
   "id": "4fb1b805-ab88-47e7-8e8e-77467d0acd1a",
   "metadata": {},
   "source": [
    "### Model Training"
   ]
  },
  {
   "cell_type": "code",
   "execution_count": null,
   "id": "177b94e7-ff9b-406d-9ed5-e1dd760809af",
   "metadata": {},
   "outputs": [],
   "source": []
  },
  {
   "cell_type": "markdown",
   "id": "8aeadc11-ce2c-4fd4-9cd3-4418b2d0fde5",
   "metadata": {},
   "source": [
    "### Sensitivity Analysis"
   ]
  },
  {
   "cell_type": "code",
   "execution_count": null,
   "id": "a3581a32-e841-4b15-9dfe-459a6a9e061f",
   "metadata": {},
   "outputs": [],
   "source": []
  }
 ],
 "metadata": {
  "kernelspec": {
   "display_name": "Julia 1.9.3",
   "language": "julia",
   "name": "julia-1.9"
  },
  "language_info": {
   "file_extension": ".jl",
   "mimetype": "application/julia",
   "name": "julia",
   "version": "1.10.1"
  }
 },
 "nbformat": 4,
 "nbformat_minor": 5
}
